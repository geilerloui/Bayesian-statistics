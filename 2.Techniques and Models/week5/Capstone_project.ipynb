{
 "cells": [
  {
   "cell_type": "markdown",
   "metadata": {},
   "source": [
    "### Human Resources Analytics\n",
    "\n",
    "#### Why are our best and most experienced employees leaving prematurely ?"
   ]
  },
  {
   "cell_type": "code",
   "execution_count": 1,
   "metadata": {
    "collapsed": false
   },
   "outputs": [
    {
     "data": {
      "text/html": [
       "<table>\n",
       "<thead><tr><th scope=col>satisfaction_level</th><th scope=col>last_evaluation</th><th scope=col>number_project</th><th scope=col>average_montly_hours</th><th scope=col>time_spend_company</th><th scope=col>Work_accident</th><th scope=col>left</th><th scope=col>promotion_last_5years</th><th scope=col>sales</th><th scope=col>salary</th></tr></thead>\n",
       "<tbody>\n",
       "\t<tr><td>0.38  </td><td>0.53  </td><td>2     </td><td>157   </td><td>3     </td><td>0     </td><td>1     </td><td>0     </td><td>sales </td><td>low   </td></tr>\n",
       "\t<tr><td>0.80  </td><td>0.86  </td><td>5     </td><td>262   </td><td>6     </td><td>0     </td><td>1     </td><td>0     </td><td>sales </td><td>medium</td></tr>\n",
       "</tbody>\n",
       "</table>\n"
      ],
      "text/latex": [
       "\\begin{tabular}{r|llllllllll}\n",
       " satisfaction\\_level & last\\_evaluation & number\\_project & average\\_montly\\_hours & time\\_spend\\_company & Work\\_accident & left & promotion\\_last\\_5years & sales & salary\\\\\n",
       "\\hline\n",
       "\t 0.38   & 0.53   & 2      & 157    & 3      & 0      & 1      & 0      & sales  & low   \\\\\n",
       "\t 0.80   & 0.86   & 5      & 262    & 6      & 0      & 1      & 0      & sales  & medium\\\\\n",
       "\\end{tabular}\n"
      ],
      "text/markdown": [
       "\n",
       "satisfaction_level | last_evaluation | number_project | average_montly_hours | time_spend_company | Work_accident | left | promotion_last_5years | sales | salary | \n",
       "|---|---|\n",
       "| 0.38   | 0.53   | 2      | 157    | 3      | 0      | 1      | 0      | sales  | low    | \n",
       "| 0.80   | 0.86   | 5      | 262    | 6      | 0      | 1      | 0      | sales  | medium | \n",
       "\n",
       "\n"
      ],
      "text/plain": [
       "  satisfaction_level last_evaluation number_project average_montly_hours\n",
       "1 0.38               0.53            2              157                 \n",
       "2 0.80               0.86            5              262                 \n",
       "  time_spend_company Work_accident left promotion_last_5years sales salary\n",
       "1 3                  0             1    0                     sales low   \n",
       "2 6                  0             1    0                     sales medium"
      ]
     },
     "metadata": {},
     "output_type": "display_data"
    }
   ],
   "source": [
    "df <- read.csv(\"HR_comma_sep.csv\", header=TRUE)\n",
    "head(df, 2)"
   ]
  },
  {
   "cell_type": "code",
   "execution_count": 2,
   "metadata": {
    "collapsed": false
   },
   "outputs": [
    {
     "data": {
      "text/html": [
       "<ol class=list-inline>\n",
       "\t<li>14999</li>\n",
       "\t<li>10</li>\n",
       "</ol>\n"
      ],
      "text/latex": [
       "\\begin{enumerate*}\n",
       "\\item 14999\n",
       "\\item 10\n",
       "\\end{enumerate*}\n"
      ],
      "text/markdown": [
       "1. 14999\n",
       "2. 10\n",
       "\n",
       "\n"
      ],
      "text/plain": [
       "[1] 14999    10"
      ]
     },
     "metadata": {},
     "output_type": "display_data"
    }
   ],
   "source": [
    "dim(df)"
   ]
  },
  {
   "cell_type": "code",
   "execution_count": 3,
   "metadata": {
    "collapsed": false
   },
   "outputs": [
    {
     "data": {
      "text/plain": [
       " satisfaction_level last_evaluation  number_project  average_montly_hours\n",
       " Min.   :0.0900     Min.   :0.3600   Min.   :2.000   Min.   : 96.0       \n",
       " 1st Qu.:0.4400     1st Qu.:0.5600   1st Qu.:3.000   1st Qu.:156.0       \n",
       " Median :0.6400     Median :0.7200   Median :4.000   Median :200.0       \n",
       " Mean   :0.6128     Mean   :0.7161   Mean   :3.803   Mean   :201.1       \n",
       " 3rd Qu.:0.8200     3rd Qu.:0.8700   3rd Qu.:5.000   3rd Qu.:245.0       \n",
       " Max.   :1.0000     Max.   :1.0000   Max.   :7.000   Max.   :310.0       \n",
       "                                                                         \n",
       " time_spend_company Work_accident         left        promotion_last_5years\n",
       " Min.   : 2.000     Min.   :0.0000   Min.   :0.0000   Min.   :0.00000      \n",
       " 1st Qu.: 3.000     1st Qu.:0.0000   1st Qu.:0.0000   1st Qu.:0.00000      \n",
       " Median : 3.000     Median :0.0000   Median :0.0000   Median :0.00000      \n",
       " Mean   : 3.498     Mean   :0.1446   Mean   :0.2381   Mean   :0.02127      \n",
       " 3rd Qu.: 4.000     3rd Qu.:0.0000   3rd Qu.:0.0000   3rd Qu.:0.00000      \n",
       " Max.   :10.000     Max.   :1.0000   Max.   :1.0000   Max.   :1.00000      \n",
       "                                                                           \n",
       "         sales         salary    \n",
       " sales      :4140   high  :1237  \n",
       " technical  :2720   low   :7316  \n",
       " support    :2229   medium:6446  \n",
       " IT         :1227                \n",
       " product_mng: 902                \n",
       " marketing  : 858                \n",
       " (Other)    :2923                "
      ]
     },
     "metadata": {},
     "output_type": "display_data"
    }
   ],
   "source": [
    "summary(df)"
   ]
  },
  {
   "cell_type": "markdown",
   "metadata": {},
   "source": [
    "## 0. Check variables types, factors ..."
   ]
  },
  {
   "cell_type": "code",
   "execution_count": 4,
   "metadata": {
    "collapsed": false
   },
   "outputs": [
    {
     "data": {
      "text/html": [
       "<dl class=dl-horizontal>\n",
       "\t<dt>satisfaction_level</dt>\n",
       "\t\t<dd>'numeric'</dd>\n",
       "\t<dt>last_evaluation</dt>\n",
       "\t\t<dd>'numeric'</dd>\n",
       "\t<dt>number_project</dt>\n",
       "\t\t<dd>'integer'</dd>\n",
       "\t<dt>average_montly_hours</dt>\n",
       "\t\t<dd>'integer'</dd>\n",
       "\t<dt>time_spend_company</dt>\n",
       "\t\t<dd>'integer'</dd>\n",
       "\t<dt>Work_accident</dt>\n",
       "\t\t<dd>'integer'</dd>\n",
       "\t<dt>left</dt>\n",
       "\t\t<dd>'integer'</dd>\n",
       "\t<dt>promotion_last_5years</dt>\n",
       "\t\t<dd>'integer'</dd>\n",
       "\t<dt>sales</dt>\n",
       "\t\t<dd>'factor'</dd>\n",
       "\t<dt>salary</dt>\n",
       "\t\t<dd>'factor'</dd>\n",
       "</dl>\n"
      ],
      "text/latex": [
       "\\begin{description*}\n",
       "\\item[satisfaction\\textbackslash{}\\_level] 'numeric'\n",
       "\\item[last\\textbackslash{}\\_evaluation] 'numeric'\n",
       "\\item[number\\textbackslash{}\\_project] 'integer'\n",
       "\\item[average\\textbackslash{}\\_montly\\textbackslash{}\\_hours] 'integer'\n",
       "\\item[time\\textbackslash{}\\_spend\\textbackslash{}\\_company] 'integer'\n",
       "\\item[Work\\textbackslash{}\\_accident] 'integer'\n",
       "\\item[left] 'integer'\n",
       "\\item[promotion\\textbackslash{}\\_last\\textbackslash{}\\_5years] 'integer'\n",
       "\\item[sales] 'factor'\n",
       "\\item[salary] 'factor'\n",
       "\\end{description*}\n"
      ],
      "text/markdown": [
       "satisfaction_level\n",
       ":   'numeric'last_evaluation\n",
       ":   'numeric'number_project\n",
       ":   'integer'average_montly_hours\n",
       ":   'integer'time_spend_company\n",
       ":   'integer'Work_accident\n",
       ":   'integer'left\n",
       ":   'integer'promotion_last_5years\n",
       ":   'integer'sales\n",
       ":   'factor'salary\n",
       ":   'factor'\n",
       "\n"
      ],
      "text/plain": [
       "   satisfaction_level       last_evaluation        number_project \n",
       "            \"numeric\"             \"numeric\"             \"integer\" \n",
       " average_montly_hours    time_spend_company         Work_accident \n",
       "            \"integer\"             \"integer\"             \"integer\" \n",
       "                 left promotion_last_5years                 sales \n",
       "            \"integer\"             \"integer\"              \"factor\" \n",
       "               salary \n",
       "             \"factor\" "
      ]
     },
     "metadata": {},
     "output_type": "display_data"
    }
   ],
   "source": [
    "sapply(df, class)"
   ]
  },
  {
   "cell_type": "markdown",
   "metadata": {},
   "source": [
    "## 1. Data exploration"
   ]
  },
  {
   "cell_type": "code",
   "execution_count": 5,
   "metadata": {
    "collapsed": false
   },
   "outputs": [
    {
     "data": {
      "image/png": "[encoded data removed]",
      "text/plain": [
       "Plot with title \"Normal Q-Q Plot\""
      ]
     },
     "metadata": {},
     "output_type": "display_data"
    }
   ],
   "source": [
    "plot_graphs <- function(return_matrix, col_name){\n",
    "    # Generate four panel plots\n",
    "    par(mfrow = c(2, 2))\n",
    "    hist(return_matrix[, col_name], main = paste(col_name, \"frequency\"),\n",
    "         xlab = col_name, probability = T, col = \"slateblue1\")\n",
    "    boxplot(return_matrix[, col_name], outchar = T, main = \"Boxplot\", col = \"slateblue1\")\n",
    "    plot(density(return_matrix[, col_name]), type = \"l\", main = \"Smoothed density\",\n",
    "         xlab = col_name, ylab = \"density estimate\", col = \"slateblue1\")\n",
    "    qqnorm(return_matrix[, col_name], col = \"slateblue1\")\n",
    "    qqline(return_matrix[, col_name])\n",
    "    par(mfrow = c(1, 1))\n",
    "}\n",
    "\n",
    "col_name = \"average_montly_hours\"\n",
    "\n",
    "plot_graphs(data.matrix(df[col_name]), col_name)"
   ]
  },
  {
   "cell_type": "markdown",
   "metadata": {},
   "source": [
    "## 2. Prediction with logistic regression\n",
    "\n",
    "### 2.1 Variable selection"
   ]
  },
  {
   "cell_type": "code",
   "execution_count": 6,
   "metadata": {
    "collapsed": false
   },
   "outputs": [],
   "source": [
    "smp_size <- floor(0.10 * nrow(df))\n",
    "\n",
    "set.seed(123)\n",
    "train_ind <- sample(seq_len(nrow(df)), size = smp_size)\n",
    "\n",
    "df <- df[train_ind, ]"
   ]
  },
  {
   "cell_type": "code",
   "execution_count": 7,
   "metadata": {
    "collapsed": false
   },
   "outputs": [],
   "source": [
    "# 1. Center and Scale only numeric variables\n",
    "ind_num <- sapply(df, is.numeric)\n",
    "ind_num[\"left\"] <- FALSE\n",
    "df[ind_num] <- lapply(df[ind_num], scale)\n",
    "\n",
    "# 2. Convert to a matrix\n",
    "X <- data.matrix(df)\n",
    "\n",
    "# 3. create a vector with the target variable\n",
    "# and a matrix with all the predictors\n",
    "target_variable <- \"left\"\n",
    "y <- X[, target_variable]\n",
    "X <- X[, - which(names(df) == target_variable)]\n"
   ]
  },
  {
   "cell_type": "code",
   "execution_count": 8,
   "metadata": {
    "collapsed": false,
    "scrolled": true
   },
   "outputs": [
    {
     "name": "stderr",
     "output_type": "stream",
     "text": [
      "Warning message:\n",
      "\"package 'rjags' was built under R version 3.3.3\"Loading required package: coda\n",
      "Warning message:\n",
      "\"package 'coda' was built under R version 3.3.3\"Linked to JAGS 4.3.0\n",
      "Loaded modules: basemod,bugs\n",
      "Warning message in jags.model(textConnection(mod1_string), data = data_jags, n.chains = 3, :\n",
      "\"Unused variable \"number_project\" in data\"Warning message in jags.model(textConnection(mod1_string), data = data_jags, n.chains = 3, :\n",
      "\"Unused variable \"average_montly_hours\" in data\"Warning message in jags.model(textConnection(mod1_string), data = data_jags, n.chains = 3, :\n",
      "\"Unused variable \"time_spend_company\" in data\"Warning message in jags.model(textConnection(mod1_string), data = data_jags, n.chains = 3, :\n",
      "\"Unused variable \"Work_accident\" in data\"Warning message in jags.model(textConnection(mod1_string), data = data_jags, n.chains = 3, :\n",
      "\"Unused variable \"promotion_last_5years\" in data\"Warning message in jags.model(textConnection(mod1_string), data = data_jags, n.chains = 3, :\n",
      "\"Unused variable \"sales\" in data\"Warning message in jags.model(textConnection(mod1_string), data = data_jags, n.chains = 3, :\n",
      "\"Unused variable \"salary\" in data\""
     ]
    },
    {
     "name": "stdout",
     "output_type": "stream",
     "text": [
      "Compiling model graph\n",
      "   Resolving undeclared variables\n",
      "   Allocating nodes\n",
      "Graph information:\n",
      "   Observed stochastic nodes: 1499\n",
      "   Unobserved stochastic nodes: 3\n",
      "   Total graph size: 7033\n",
      "\n",
      "Initializing model\n",
      "\n"
     ]
    }
   ],
   "source": [
    "library(\"rjags\")\n",
    "\n",
    "mod1_string = \" model {\n",
    "    for (i in 1:length(y)) {\n",
    "        y[i] ~ dbern(p[i])\n",
    "        logit(p[i]) = int\n",
    "                    + b[1]*satisfaction_level[i] + b[2]*last_evaluation[i]\n",
    "                    \n",
    "    }\n",
    "    int ~ dnorm(0.0, 1.0/25.0)\n",
    "    for (j in 1:2) {\n",
    "        b[j] ~ ddexp(0.0, sqrt(2.0)) # has variance 1.0\n",
    "    }\n",
    "} \"\n",
    "\n",
    "set.seed(92)\n",
    "\n",
    "data_jags = list(y=df$left, satisfaction_level=X[,\"satisfaction_level\"], last_evaluation=X[,\"last_evaluation\"],\n",
    "                 number_project=X[,\"number_project\"], average_montly_hours=X[,\"average_montly_hours\"],\n",
    "                 time_spend_company=X[,\"time_spend_company\"], Work_accident=X[,\"Work_accident\"],\n",
    "                 promotion_last_5years=X[,\"promotion_last_5years\"], sales=X[,\"sales\"],\n",
    "                 salary=X[,\"salary\"])\n",
    "\n",
    "params = c(\"int\", \"b\")\n",
    "\n",
    "mod1 = jags.model(textConnection(mod1_string), data=data_jags, n.chains=3, quiet=FALSE)\n",
    "update(mod1, 1e3)\n",
    "\n",
    "mod1_sim = coda.samples(model=mod1,\n",
    "                        variable.names=params,\n",
    "                        n.iter=5e3)\n",
    "mod1_csim = as.mcmc(do.call(rbind, mod1_sim))\n"
   ]
  },
  {
   "cell_type": "code",
   "execution_count": null,
   "metadata": {
    "collapsed": true
   },
   "outputs": [],
   "source": [
    "logit(p[i]) = int\n",
    "            + b[1]*satisfaction_level[i] + b[2]*last_evaluation[i]\n",
    "            + b[3]*number_project[i] + b[4]*average_montly_hours[i]\n",
    "            + b[5]*time_spend_company[i] + b[6]*promotion_last_5years[i]\n",
    "            + b[7]*sales[i] + b[8]*salary[i] \n",
    "            + b[9]*Work_accident[i]"
   ]
  },
  {
   "cell_type": "code",
   "execution_count": 9,
   "metadata": {
    "collapsed": false,
    "scrolled": false
   },
   "outputs": [
    {
     "data": {
      "text/plain": [
       "Potential scale reduction factors:\n",
       "\n",
       "     Point est. Upper C.I.\n",
       "b[1]          1          1\n",
       "b[2]          1          1\n",
       "int           1          1\n",
       "\n",
       "Multivariate psrf\n",
       "\n",
       "1"
      ]
     },
     "metadata": {},
     "output_type": "display_data"
    },
    {
     "data": {
      "text/html": [
       "<table>\n",
       "<thead><tr><th></th><th scope=col>b[1]</th><th scope=col>b[2]</th><th scope=col>int</th></tr></thead>\n",
       "<tbody>\n",
       "\t<tr><th scope=row>Lag 0</th><td>1.00000000   </td><td> 1.000000000 </td><td> 1.0000000000</td></tr>\n",
       "\t<tr><th scope=row>Lag 1</th><td>0.35748425   </td><td> 0.236812880 </td><td> 0.3459550712</td></tr>\n",
       "\t<tr><th scope=row>Lag 5</th><td>0.01572705   </td><td> 0.008194522 </td><td>-0.0003238748</td></tr>\n",
       "\t<tr><th scope=row>Lag 10</th><td>0.00625054   </td><td>-0.002645990 </td><td>-0.0122801342</td></tr>\n",
       "\t<tr><th scope=row>Lag 50</th><td>0.01052212   </td><td> 0.008463701 </td><td> 0.0052091188</td></tr>\n",
       "</tbody>\n",
       "</table>\n"
      ],
      "text/latex": [
       "\\begin{tabular}{r|lll}\n",
       "  & b{[}1{]} & b{[}2{]} & int\\\\\n",
       "\\hline\n",
       "\tLag 0 & 1.00000000    &  1.000000000  &  1.0000000000\\\\\n",
       "\tLag 1 & 0.35748425    &  0.236812880  &  0.3459550712\\\\\n",
       "\tLag 5 & 0.01572705    &  0.008194522  & -0.0003238748\\\\\n",
       "\tLag 10 & 0.00625054    & -0.002645990  & -0.0122801342\\\\\n",
       "\tLag 50 & 0.01052212    &  0.008463701  &  0.0052091188\\\\\n",
       "\\end{tabular}\n"
      ],
      "text/markdown": [
       "\n",
       "| <!--/--> | b[1] | b[2] | int | \n",
       "|---|---|---|---|---|\n",
       "| Lag 0 | 1.00000000    |  1.000000000  |  1.0000000000 | \n",
       "| Lag 1 | 0.35748425    |  0.236812880  |  0.3459550712 | \n",
       "| Lag 5 | 0.01572705    |  0.008194522  | -0.0003238748 | \n",
       "| Lag 10 | 0.00625054    | -0.002645990  | -0.0122801342 | \n",
       "| Lag 50 | 0.01052212    |  0.008463701  |  0.0052091188 | \n",
       "\n",
       "\n"
      ],
      "text/plain": [
       "       b[1]       b[2]         int          \n",
       "Lag 0  1.00000000  1.000000000  1.0000000000\n",
       "Lag 1  0.35748425  0.236812880  0.3459550712\n",
       "Lag 5  0.01572705  0.008194522 -0.0003238748\n",
       "Lag 10 0.00625054 -0.002645990 -0.0122801342\n",
       "Lag 50 0.01052212  0.008463701  0.0052091188"
      ]
     },
     "metadata": {},
     "output_type": "display_data"
    },
    {
     "data": {
      "image/png": "[encoded data removed]",
      "text/plain": [
       "Plot with title \"Density of int\""
      ]
     },
     "metadata": {},
     "output_type": "display_data"
    },
    {
     "data": {
      "image/png": "[encoded data removed]",
      "text/plain": [
       "Plot with title \"b[1]\""
      ]
     },
     "metadata": {},
     "output_type": "display_data"
    },
    {
     "data": {
      "image/png": "[encoded data removed]",
      "text/plain": [
       "Plot with title \"b[2]\""
      ]
     },
     "metadata": {},
     "output_type": "display_data"
    },
    {
     "data": {
      "text/html": [
       "<dl class=dl-horizontal>\n",
       "\t<dt>b[1]</dt>\n",
       "\t\t<dd>6625.2126132675</dd>\n",
       "\t<dt>b[2]</dt>\n",
       "\t\t<dd>8611.32355302498</dd>\n",
       "\t<dt>int</dt>\n",
       "\t\t<dd>6725.75082870901</dd>\n",
       "</dl>\n"
      ],
      "text/latex": [
       "\\begin{description*}\n",
       "\\item[b\\{{[}\\}1\\{{]}\\}] 6625.2126132675\n",
       "\\item[b\\{{[}\\}2\\{{]}\\}] 8611.32355302498\n",
       "\\item[int] 6725.75082870901\n",
       "\\end{description*}\n"
      ],
      "text/markdown": [
       "b[1]\n",
       ":   6625.2126132675b[2]\n",
       ":   8611.32355302498int\n",
       ":   6725.75082870901\n",
       "\n"
      ],
      "text/plain": [
       "    b[1]     b[2]      int \n",
       "6625.213 8611.324 6725.751 "
      ]
     },
     "metadata": {},
     "output_type": "display_data"
    },
    {
     "data": {
      "image/png": "[encoded data removed]",
      "text/plain": [
       "Plot with title \"int\""
      ]
     },
     "metadata": {},
     "output_type": "display_data"
    }
   ],
   "source": [
    "## convergence diagnostics\n",
    "plot(mod1_sim, ask=TRUE)\n",
    "\n",
    "gelman.diag(mod1_sim)\n",
    "autocorr.diag(mod1_sim)\n",
    "autocorr.plot(mod1_sim)\n",
    "effectiveSize(mod1_sim)\n"
   ]
  },
  {
   "cell_type": "code",
   "execution_count": 10,
   "metadata": {
    "collapsed": true
   },
   "outputs": [],
   "source": [
    "## calculate DIC\n",
    "dic1 = dic.samples(mod1, n.iter=1e3)"
   ]
  },
  {
   "cell_type": "code",
   "execution_count": 11,
   "metadata": {
    "collapsed": false
   },
   "outputs": [
    {
     "data": {
      "text/plain": [
       "Mean deviance:  1368 \n",
       "penalty 2.943 \n",
       "Penalized deviance: 1371 "
      ]
     },
     "metadata": {},
     "output_type": "display_data"
    }
   ],
   "source": [
    "dic1"
   ]
  },
  {
   "cell_type": "code",
   "execution_count": null,
   "metadata": {
    "collapsed": true
   },
   "outputs": [],
   "source": []
  }
 ],
 "metadata": {
  "kernelspec": {
   "display_name": "R",
   "language": "R",
   "name": "ir"
  },
  "language_info": {
   "codemirror_mode": "r",
   "file_extension": ".r",
   "mimetype": "text/x-r-source",
   "name": "R",
   "pygments_lexer": "r",
   "version": "3.3.1"
  }
 },
 "nbformat": 4,
 "nbformat_minor": 2
}
